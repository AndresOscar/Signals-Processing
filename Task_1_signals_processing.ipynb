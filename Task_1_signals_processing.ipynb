{
  "nbformat": 4,
  "nbformat_minor": 0,
  "metadata": {
    "colab": {
      "provenance": []
    },
    "kernelspec": {
      "name": "python3",
      "display_name": "Python 3"
    },
    "language_info": {
      "name": "python"
    }
  },
  "cells": [
    {
      "cell_type": "markdown",
      "source": [
        "## Transformada de Fourier para datos muestreados no uniformemente\n",
        "\n",
        "Cuando una señal no está muestreada uniformemente, la **Transformada Discreta de Fourier (DFT)** estándar no puede aplicarse directamente. Estos son los métodos matemáticos para manejar tales casos:\n",
        "\n",
        "### 1. Interpolación + FFT (Aproximación)\n",
        "\n",
        "Primero interpolamos los datos no uniformes a una rejilla uniforme:\n",
        "\n",
        "$\n",
        "\\tilde{x}(t_k) \\approx x(t) \\quad \\text{para} \\quad t_k = k\\Delta t\n",
        "$\n",
        "\n",
        "Luego aplicamos la FFT estándar.\n",
        "\n"
      ],
      "metadata": {
        "id": "iTVyvSapyttA"
      }
    },
    {
      "cell_type": "code",
      "source": [
        "from scipy.interpolate import interp1d\n",
        "import numpy as np\n",
        "\n",
        "# Datos no uniformes (ej: tiempos t y valores x)\n",
        "t_non_uniform = np.array([0, 1.1, 2.5, 3.0, 5.2])\n",
        "x_non_uniform = np.array([1.0, 2.0, 1.5, 0.5, 1.0])\n",
        "\n",
        "# Interpolación a una rejilla uniforme\n",
        "t_uniform = np.linspace(t_non_uniform.min(), t_non_uniform.max(), 100)\n",
        "interp_func = interp1d(t_non_uniform, x_non_uniform, kind='cubic')\n",
        "x_uniform = interp_func(t_uniform)\n",
        "\n",
        "# FFT estándar\n",
        "X = np.fft.fft(x_uniform)"
      ],
      "metadata": {
        "id": "mNk7pxAby7AP"
      },
      "execution_count": 2,
      "outputs": []
    },
    {
      "cell_type": "markdown",
      "source": [
        "### 2. Transformada de Fourier Discreta No Uniforme (NUDFT)\n",
        "\n",
        "Generalización de la DFT para tiempos de muestreo no uniformes $t_n$:\n",
        "\n",
        "#### a) NUDFT Tipo 1 (Directa)\n",
        "\n",
        "$\n",
        "X(f_k) = \\sum_{n=0}^{N-1} x(t_n) e^{-j2\\pi f_k t_n}\n",
        "$\n",
        "\n",
        "#### b) NUDFT Tipo 2 (Inversa)\n",
        "\n",
        "$\n",
        "x(t_n) = \\sum_{k=0}^{N-1} X(f_k) e^{j2\\pi f_k t_n}\n",
        "$\n",
        "\n",
        "\n"
      ],
      "metadata": {
        "id": "DVrGv9opzMqo"
      }
    },
    {
      "cell_type": "code",
      "source": [
        "from pynfft import NFFT\n",
        "\n",
        "# Datos no uniformes\n",
        "t_non_uniform = np.array([0, 0.5, 1.9, 2.1])\n",
        "x_non_uniform = np.array([1.0, 2.0, 0.5, 1.5])\n",
        "\n",
        "\n",
        "\n",
        "N = len(t_non_uniform)\n",
        "freqs = np.fft.fftfreq(N)\n",
        "plan = NFFT(N, N)\n",
        "plan.x = t_non_uniform  # Tiempos no uniformes\n",
        "plan.precompute()\n",
        "plan.f = x_non_uniform\n",
        "X_nudft = plan.adjoint()"
      ],
      "metadata": {
        "id": "-Rb2dQjqzMEx"
      },
      "execution_count": null,
      "outputs": []
    },
    {
      "cell_type": "markdown",
      "source": [
        "### 3. Periodograma Lomb-Scargle\n",
        "\n",
        "Método espectral para datos altamente irregulares:\n",
        "\n",
        "$\n",
        "P(f) = \\frac{1}{2} \\left( \\frac{ \\left| \\sum_n x_n \\cos(2\\pi f [t_n - \\tau]) \\right|^2 }{ \\sum_n \\cos^2(2\\pi f [t_n - \\tau]) } + \\frac{ \\left| \\sum_n x_n \\sin(2\\pi f [t_n - \\tau]) \\right|^2 }{ \\sum_n \\sin^2(2\\pi f [t_n - \\tau]) } \\right)\n",
        "$\n",
        "\n",
        "donde $\\tau$ es un desplazamiento temporal que asegura invariancia a traslaciones."
      ],
      "metadata": {
        "id": "IVlwO9N5zPMd"
      }
    },
    {
      "cell_type": "code",
      "source": [
        "from astropy.timeseries import LombScargle\n",
        "\n",
        "# Datos no uniformes\n",
        "t_non_uniform = np.array([0, 1.1, 2.5, 3.0, 5.2])\n",
        "x_non_uniform = np.array([1.0, 2.0, 1.5, 0.5, 1.0])\n",
        "\n",
        "# Periodograma Lomb-Scargle\n",
        "frequency = np.linspace(0.1, 10, 1000)\n",
        "power = LombScargle(t_non_uniform, x_non_uniform).power(frequency)\n",
        "\n",
        "# Gráfica\n",
        "plt.plot(frequency, power)\n",
        "plt.xlabel(\"Frecuencia (Hz)\")\n",
        "plt.ylabel(\"Potencia\")\n",
        "plt.title(\"Periodograma Lomb-Scargle\")\n",
        "plt.show()"
      ],
      "metadata": {
        "id": "BYKwHwBqzWyS"
      },
      "execution_count": null,
      "outputs": []
    },
    {
      "cell_type": "markdown",
      "source": [
        "### Comparación de métodos\n",
        "\n",
        "| Método               | Ventajas                          | Desventajas                     |\n",
        "|----------------------|-----------------------------------|----------------------------------|\n",
        "| Interpolación + FFT  | Rápido y simple                  | Introduce error por interpolación|\n",
        "| NUDFT                | Exacto para muestreo no uniforme | Alto costo computacional        |\n",
        "| Lomb-Scargle         | Ideal para datos muy irregulares | Solo estima potencia (no fase)  |\n",
        "\n",
        "### Conclusión\n",
        "\n",
        "La elección del método depende de:\n",
        "1. La regularidad del muestreo temporal\n",
        "2. Los requisitos de precisión\n",
        "3. Los recursos computacionales disponibles"
      ],
      "metadata": {
        "id": "0geqX9K2zXFu"
      }
    }
  ]
}